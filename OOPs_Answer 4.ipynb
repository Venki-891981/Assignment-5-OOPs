{
 "cells": [
  {
   "cell_type": "markdown",
   "id": "1244ed9f",
   "metadata": {},
   "source": [
    "# OOP Assignment\n",
    "\n",
    "# Challenge 4: Implement a Banking Account"
   ]
  },
  {
   "cell_type": "code",
   "execution_count": 25,
   "id": "3d42936f",
   "metadata": {},
   "outputs": [],
   "source": [
    "## Task 1\n",
    "\n",
    "class Account:\n",
    "    \n",
    "    balance_cnt = 0\n",
    "    def __init__(self, title, balance):\n",
    "        self.title = title\n",
    "        self.balance = balance\n",
    "        print(\"title : {}, balance : {}\".format(self.title,self.balance))\n",
    "\n",
    "\n",
    "class SavingsAccount(Account):\n",
    "\n",
    "    def __init__(self, title, balance, interestRate):\n",
    "        \n",
    "        super().__init__(title, balance)\n",
    "        self.interestRate = interestRate\n",
    "       "
   ]
  },
  {
   "cell_type": "code",
   "execution_count": 26,
   "id": "74f77d46",
   "metadata": {},
   "outputs": [
    {
     "name": "stdout",
     "output_type": "stream",
     "text": [
      "title : Ashish, balance : 5000\n"
     ]
    }
   ],
   "source": [
    "## Task 2\n",
    "\n",
    "credentials = Account(\"Ashish\", 5000)"
   ]
  },
  {
   "cell_type": "code",
   "execution_count": 29,
   "id": "fa87daa8",
   "metadata": {},
   "outputs": [
    {
     "name": "stdout",
     "output_type": "stream",
     "text": [
      "title : Ashish, balance : 5000\n"
     ]
    }
   ],
   "source": [
    "## Task 3\n",
    "\n",
    "\n",
    "credentials_1 = SavingsAccount(\"Ashish\", 5000, 5)"
   ]
  },
  {
   "cell_type": "code",
   "execution_count": 30,
   "id": "deb33447",
   "metadata": {},
   "outputs": [
    {
     "data": {
      "text/plain": [
       "5"
      ]
     },
     "execution_count": 30,
     "metadata": {},
     "output_type": "execute_result"
    }
   ],
   "source": [
    "credentials_1.interestRate"
   ]
  },
  {
   "cell_type": "code",
   "execution_count": null,
   "id": "11c95cde",
   "metadata": {},
   "outputs": [],
   "source": []
  }
 ],
 "metadata": {
  "kernelspec": {
   "display_name": "Python 3 (ipykernel)",
   "language": "python",
   "name": "python3"
  },
  "language_info": {
   "codemirror_mode": {
    "name": "ipython",
    "version": 3
   },
   "file_extension": ".py",
   "mimetype": "text/x-python",
   "name": "python",
   "nbconvert_exporter": "python",
   "pygments_lexer": "ipython3",
   "version": "3.10.9"
  }
 },
 "nbformat": 4,
 "nbformat_minor": 5
}
