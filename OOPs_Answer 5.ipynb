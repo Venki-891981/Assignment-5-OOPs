{
 "cells": [
  {
   "cell_type": "markdown",
   "id": "483099ac",
   "metadata": {},
   "source": [
    "# OOP Assignment\n",
    "\n",
    "# Challenge 5: Handling a Bank Account"
   ]
  },
  {
   "cell_type": "code",
   "execution_count": 40,
   "id": "dbab4653",
   "metadata": {},
   "outputs": [],
   "source": [
    "class Account:\n",
    "    def __init__(self, title=None, balance=0):\n",
    "        self.title = title\n",
    "        self.balance = balance\n",
    "    \n",
    "    def withdrawal(self, balance = 2000, withdrawal = 500):\n",
    "        self.balance = 2000\n",
    "        self.withdrawal = 500\n",
    "        \n",
    "    def getBalance_withdrawal(self, balance = 2000, withdrawal = 500):\n",
    "        self.balance = 2000\n",
    "        self.withdrawal = 500\n",
    "        self.getbalance_withdrawal = self.balance - self.withdrawal\n",
    "        return self.getbalance_withdrawal\n",
    "        \n",
    "        \n",
    "        \n",
    "    def deposit(self, balance = 5000, deposit = 500):\n",
    "        self.balance = 2000\n",
    "        self.deposit = 500\n",
    "        \n",
    "    def getBalance_deposit(self, balance = 2000, deposit = 500):\n",
    "        self.balance = 2000\n",
    "        self.deposit = 500\n",
    "        self.getbalance_deposit = self.balance + self.deposit\n",
    "        return self.getbalance_deposit\n",
    "        \n",
    "        \n",
    "        \n",
    "class SavingsAccount(Account):\n",
    "    def __init__(self, title=None, balance=0, interestRate=0):\n",
    "            super().__init__(title, balance = 2000)\n",
    "            self.interestRate = interestRate\n",
    "    \n",
    "    def interestAmount(self, balance = 2000, interestRate = 5):\n",
    "        self.balance = 2000\n",
    "        self.interestRate = 5\n",
    "        self.interestAmount = (self.interestRate*self.balance)/100\n",
    "        print(\"(interestAmount : (interestRate : {} * balance :{}) / 100 : {}\".format\n",
    "              (self.interestRate, self.balance, self.interestAmount))\n",
    "\n",
    "#code to test - do not edit this\n",
    "\n",
    "demo1 = SavingsAccount(\"Ashish\", 2000, 5)   # initializing a SavingsAccount object"
   ]
  },
  {
   "cell_type": "code",
   "execution_count": 41,
   "id": "13bbe023",
   "metadata": {},
   "outputs": [],
   "source": [
    "bank = Account()"
   ]
  },
  {
   "cell_type": "code",
   "execution_count": 42,
   "id": "9024f952",
   "metadata": {},
   "outputs": [
    {
     "data": {
      "text/plain": [
       "1500"
      ]
     },
     "execution_count": 42,
     "metadata": {},
     "output_type": "execute_result"
    }
   ],
   "source": [
    "bank.getBalance_withdrawal()"
   ]
  },
  {
   "cell_type": "code",
   "execution_count": 43,
   "id": "5b0158df",
   "metadata": {},
   "outputs": [
    {
     "data": {
      "text/plain": [
       "2500"
      ]
     },
     "execution_count": 43,
     "metadata": {},
     "output_type": "execute_result"
    }
   ],
   "source": [
    "bank.getBalance_deposit()"
   ]
  },
  {
   "cell_type": "code",
   "execution_count": 44,
   "id": "3fb1a756",
   "metadata": {},
   "outputs": [],
   "source": [
    "bank_1 = SavingsAccount(\"Ashish\", 2000, 5)"
   ]
  },
  {
   "cell_type": "code",
   "execution_count": 45,
   "id": "5110c2d2",
   "metadata": {},
   "outputs": [
    {
     "data": {
      "text/plain": [
       "'Ashish'"
      ]
     },
     "execution_count": 45,
     "metadata": {},
     "output_type": "execute_result"
    }
   ],
   "source": [
    "bank_1.title"
   ]
  },
  {
   "cell_type": "code",
   "execution_count": 46,
   "id": "5926836c",
   "metadata": {},
   "outputs": [
    {
     "data": {
      "text/plain": [
       "2000"
      ]
     },
     "execution_count": 46,
     "metadata": {},
     "output_type": "execute_result"
    }
   ],
   "source": [
    "bank_1.balance"
   ]
  },
  {
   "cell_type": "code",
   "execution_count": 47,
   "id": "27871dcc",
   "metadata": {},
   "outputs": [
    {
     "data": {
      "text/plain": [
       "5"
      ]
     },
     "execution_count": 47,
     "metadata": {},
     "output_type": "execute_result"
    }
   ],
   "source": [
    "bank_1.interestRate"
   ]
  },
  {
   "cell_type": "code",
   "execution_count": 48,
   "id": "bf2353da",
   "metadata": {},
   "outputs": [
    {
     "name": "stdout",
     "output_type": "stream",
     "text": [
      "(interestAmount : (interestRate : 5 * balance :2000) / 100 : 100.0\n"
     ]
    }
   ],
   "source": [
    "bank_1.interestAmount()"
   ]
  },
  {
   "cell_type": "code",
   "execution_count": null,
   "id": "217ecda7",
   "metadata": {},
   "outputs": [],
   "source": []
  }
 ],
 "metadata": {
  "kernelspec": {
   "display_name": "Python 3 (ipykernel)",
   "language": "python",
   "name": "python3"
  },
  "language_info": {
   "codemirror_mode": {
    "name": "ipython",
    "version": 3
   },
   "file_extension": ".py",
   "mimetype": "text/x-python",
   "name": "python",
   "nbconvert_exporter": "python",
   "pygments_lexer": "ipython3",
   "version": "3.10.9"
  }
 },
 "nbformat": 4,
 "nbformat_minor": 5
}
