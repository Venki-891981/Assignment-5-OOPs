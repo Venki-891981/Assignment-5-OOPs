{
 "cells": [
  {
   "cell_type": "markdown",
   "id": "c441ce3d",
   "metadata": {},
   "source": [
    "# Assignment-5: OOPs\n",
    "    \n",
    "# Challenge 2: Implement a Calculator Class    "
   ]
  },
  {
   "cell_type": "code",
   "execution_count": 1,
   "id": "221e3f1a",
   "metadata": {},
   "outputs": [],
   "source": [
    "class Calculator:\n",
    "\n",
    "    def __init__(self, num1, num2):\n",
    "        self.num1 = num1\n",
    "        self.num2 = num2\n",
    "        print(\"Numbers initiated : {}, {}\".format(self.num1, self.num2))\n",
    "        \n",
    "    def add(self):\n",
    "        self.addition = self.num1+self.num2\n",
    "        print(\"The sum after addition is : {} + {} : {}\".format(self.num1,self.num2,self.addition))\n",
    "    def subtract(self):\n",
    "        self.subtraction = self.num1-self.num2\n",
    "        print(\"The sum after addition is : {} - {} : {}\".format(self.num1,self.num2,self.subtraction))\n",
    "    def multiply(self):\n",
    "        self.multiplication = self.num1*self.num2\n",
    "        print(\"The sum after addition is : {} * {} : {}\".format(self.num1,self.num2,self.multiplication))\n",
    "    def divide(self):\n",
    "        self.division = self.num1/self.num2\n",
    "        print(\"The sum after addition is : {} / {} : {}\".format(self.num1,self.num2,self.division))"
   ]
  },
  {
   "cell_type": "code",
   "execution_count": 2,
   "id": "29a77c93",
   "metadata": {},
   "outputs": [
    {
     "name": "stdout",
     "output_type": "stream",
     "text": [
      "Numbers initiated : 10, 94\n"
     ]
    }
   ],
   "source": [
    "calci = Calculator(10, 94)"
   ]
  },
  {
   "cell_type": "code",
   "execution_count": 3,
   "id": "45f2ff04",
   "metadata": {},
   "outputs": [
    {
     "name": "stdout",
     "output_type": "stream",
     "text": [
      "The sum after addition is : 10 + 94 : 104\n"
     ]
    }
   ],
   "source": [
    "calci.add()"
   ]
  },
  {
   "cell_type": "code",
   "execution_count": 4,
   "id": "c589ac8a",
   "metadata": {},
   "outputs": [
    {
     "name": "stdout",
     "output_type": "stream",
     "text": [
      "The sum after addition is : 10 - 94 : -84\n"
     ]
    }
   ],
   "source": [
    "calci.subtract()"
   ]
  },
  {
   "cell_type": "code",
   "execution_count": 5,
   "id": "4b370620",
   "metadata": {},
   "outputs": [
    {
     "name": "stdout",
     "output_type": "stream",
     "text": [
      "The sum after addition is : 10 * 94 : 940\n"
     ]
    }
   ],
   "source": [
    "calci.multiply()"
   ]
  },
  {
   "cell_type": "code",
   "execution_count": 6,
   "id": "9f5d9322",
   "metadata": {},
   "outputs": [
    {
     "name": "stdout",
     "output_type": "stream",
     "text": [
      "The sum after addition is : 10 / 94 : 0.10638297872340426\n"
     ]
    }
   ],
   "source": [
    "calci.divide()"
   ]
  },
  {
   "cell_type": "code",
   "execution_count": null,
   "id": "f379b835",
   "metadata": {},
   "outputs": [],
   "source": []
  }
 ],
 "metadata": {
  "kernelspec": {
   "display_name": "Python 3 (ipykernel)",
   "language": "python",
   "name": "python3"
  },
  "language_info": {
   "codemirror_mode": {
    "name": "ipython",
    "version": 3
   },
   "file_extension": ".py",
   "mimetype": "text/x-python",
   "name": "python",
   "nbconvert_exporter": "python",
   "pygments_lexer": "ipython3",
   "version": "3.10.9"
  }
 },
 "nbformat": 4,
 "nbformat_minor": 5
}
