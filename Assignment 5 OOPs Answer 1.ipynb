{
 "cells": [
  {
   "cell_type": "markdown",
   "id": "1349a9b7",
   "metadata": {},
   "source": [
    "# OOP Assignment\n",
    "\n",
    "# Challenge 1: Square Numbers and Return Their Sum\n",
    "    \n"
   ]
  },
  {
   "cell_type": "code",
   "execution_count": 14,
   "id": "1257acca",
   "metadata": {},
   "outputs": [],
   "source": [
    "class Point:\n",
    "\n",
    "    def __init__(self, x, y, z):\n",
    "        print(\"Accessing x, y, z directly from class :\", x, y, z)\n",
    "        self.x = x\n",
    "        self.y = y\n",
    "        self.z = z\n",
    "        \n",
    "\n",
    "    def sqSum(self):\n",
    "        self.x = self.x*self.x\n",
    "        self.y = self.y*self.y\n",
    "        self.z = self.z*self.z\n",
    "        print(\"sqSum : x^2: {} + y^2 : {} + z^2 : {}\".format(self.x, self.y, self.z))\n",
    "        \n",
    "    def print_sum(self):\n",
    "        sqSum = self.x + self.y + self.z\n",
    "        print(\"sqSum : x : {} + y : {} + z : {} : \".format(self.x, self.y, self.z), sqSum)\n",
    "        \n",
    "   "
   ]
  },
  {
   "cell_type": "code",
   "execution_count": 16,
   "id": "8e4811b4",
   "metadata": {},
   "outputs": [
    {
     "name": "stdout",
     "output_type": "stream",
     "text": [
      "Accessing x, y, z directly from class : 1 3 5\n"
     ]
    }
   ],
   "source": [
    "answer = Point(1,3,5)"
   ]
  },
  {
   "cell_type": "code",
   "execution_count": 17,
   "id": "950bf5ab",
   "metadata": {},
   "outputs": [
    {
     "name": "stdout",
     "output_type": "stream",
     "text": [
      "sqSum : x^2: 1 + y^2 : 9 + z^2 : 25\n"
     ]
    }
   ],
   "source": [
    "answer.sqSum()"
   ]
  },
  {
   "cell_type": "code",
   "execution_count": 18,
   "id": "9f0e6414",
   "metadata": {},
   "outputs": [
    {
     "name": "stdout",
     "output_type": "stream",
     "text": [
      "sqSum : x : 1 + y : 9 + z : 25 :  35\n"
     ]
    }
   ],
   "source": [
    "answer.print_sum()"
   ]
  }
 ],
 "metadata": {
  "kernelspec": {
   "display_name": "Python 3 (ipykernel)",
   "language": "python",
   "name": "python3"
  },
  "language_info": {
   "codemirror_mode": {
    "name": "ipython",
    "version": 3
   },
   "file_extension": ".py",
   "mimetype": "text/x-python",
   "name": "python",
   "nbconvert_exporter": "python",
   "pygments_lexer": "ipython3",
   "version": "3.10.9"
  }
 },
 "nbformat": 4,
 "nbformat_minor": 5
}
