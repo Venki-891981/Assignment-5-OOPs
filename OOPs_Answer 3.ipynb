{
 "cells": [
  {
   "cell_type": "markdown",
   "id": "4041db3a",
   "metadata": {},
   "source": [
    "# Assignment-5: OOPs\n",
    "\n",
    "# Challenge 3: Implement the Complete Student Class"
   ]
  },
  {
   "cell_type": "code",
   "execution_count": 1,
   "id": "a47663ce",
   "metadata": {},
   "outputs": [],
   "source": [
    "class Student:\n",
    "\n",
    "    def setName(self):\n",
    "        print(\"The name of the student is set\")\n",
    "    def getName(self, name):\n",
    "        self.__name = name\n",
    "        print(\"The name of the student is : {}\".format(self.__name))\n",
    "    def setRollNumber(self):\n",
    "        print(\"The roll number is set\")\n",
    "    def getRollNumber(self, RollNumber):\n",
    "        self.__RollNumber = RollNumber\n",
    "        print(\"The roll number of the student is : {}\".format(self.__RollNumber))"
   ]
  },
  {
   "cell_type": "code",
   "execution_count": 2,
   "id": "5c22971e",
   "metadata": {},
   "outputs": [],
   "source": [
    "student_class = Student()"
   ]
  },
  {
   "cell_type": "code",
   "execution_count": 3,
   "id": "3272dc48",
   "metadata": {},
   "outputs": [
    {
     "name": "stdout",
     "output_type": "stream",
     "text": [
      "The name of the student is set\n"
     ]
    }
   ],
   "source": [
    "student_class.setName()"
   ]
  },
  {
   "cell_type": "code",
   "execution_count": 4,
   "id": "e6f9ee6c",
   "metadata": {},
   "outputs": [
    {
     "name": "stdout",
     "output_type": "stream",
     "text": [
      "The name of the student is : Ed\n"
     ]
    }
   ],
   "source": [
    "student_class.getName(\"Ed\")"
   ]
  },
  {
   "cell_type": "code",
   "execution_count": 5,
   "id": "6919e79e",
   "metadata": {},
   "outputs": [
    {
     "name": "stdout",
     "output_type": "stream",
     "text": [
      "The roll number is set\n"
     ]
    }
   ],
   "source": [
    "student_class.setRollNumber()"
   ]
  },
  {
   "cell_type": "code",
   "execution_count": 7,
   "id": "5938b9c4",
   "metadata": {},
   "outputs": [
    {
     "name": "stdout",
     "output_type": "stream",
     "text": [
      "The roll number of the student is : 123456\n"
     ]
    }
   ],
   "source": [
    "student_class.getRollNumber(123456)"
   ]
  },
  {
   "cell_type": "code",
   "execution_count": null,
   "id": "6f70bc22",
   "metadata": {},
   "outputs": [],
   "source": []
  }
 ],
 "metadata": {
  "kernelspec": {
   "display_name": "Python 3 (ipykernel)",
   "language": "python",
   "name": "python3"
  },
  "language_info": {
   "codemirror_mode": {
    "name": "ipython",
    "version": 3
   },
   "file_extension": ".py",
   "mimetype": "text/x-python",
   "name": "python",
   "nbconvert_exporter": "python",
   "pygments_lexer": "ipython3",
   "version": "3.10.9"
  }
 },
 "nbformat": 4,
 "nbformat_minor": 5
}
